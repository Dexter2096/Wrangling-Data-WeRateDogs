{
 "cells": [
  {
   "cell_type": "markdown",
   "metadata": {},
   "source": [
    "## Introduction\n",
    "This project consist of 5 part \n",
    "<br>1- Gatring the data\n",
    "<br>2- Assessing the Data \n",
    "<br>3- Cleaning the Data\n",
    "<br>4- Storing, Analyzing, and Visualizing the Data \n",
    "<br>5- Reporting \n",
    "<br>in this paper i'll go over the first 3 part"
   ]
  },
  {
   "cell_type": "markdown",
   "metadata": {},
   "source": [
    "## Data Gathring \n",
    "the data was gathered from 3 diffrent sources as follow :\n",
    "<br><br>\n",
    "1- The WeRateDogs Twitter archive. this archivewas given to us in the form of csv file\n",
    "<br>\n",
    "2- The tweet image predictions,this file was hosted on Udacity's servers and and was downloaded programmatically using the Requests library\n",
    "<br>\n",
    "3- lastly we used twitter api te get any additional information that we may require "
   ]
  },
  {
   "cell_type": "markdown",
   "metadata": {},
   "source": [
    "## Assessing the Data\n",
    "After assessing the data visually and programatically i have found the following issues \n",
    "\n",
    "## Quality issues \n",
    "#### archive dataset ( df_ar )\n",
    "1- the data type should be changed appropriately \n",
    "<br>2- the timestamp should be typed as date time not an opject \n",
    "<br>3- we are not intersted in reply tweet \n",
    "<br>4- some numerator/donamenator value are wrong i.e.\n",
    "<br>5- we are not intersted in tweet with no image\n",
    "<br>6- some of the dog name are not valid i.e. a\n",
    "\n",
    "#### image dataset (images )\n",
    "<br>1- missing value compared to the archive dataset\n",
    "<br>2- there is dublicated image \n",
    "<br>3- we dont need the prediction for all the image especially if they are not dog\n",
    "\n",
    "#### json tweeet dataset (j_tweets)\n",
    "<br>1- there is a duplicate id \n",
    "<br>2- we have missing value compared to the other two dataset  \n",
    "\n",
    "\n",
    "\n",
    "## Tidiness issues \n",
    "1- we need to merge the diffrent data set\n",
    "<br>2-we dont need 4 column for the dog stages\n",
    "\n",
    "\n",
    "\n",
    "i have went over each issue and solved it "
   ]
  }
 ],
 "metadata": {
  "kernelspec": {
   "display_name": "Python 3",
   "language": "python",
   "name": "python3"
  },
  "language_info": {
   "codemirror_mode": {
    "name": "ipython",
    "version": 3
   },
   "file_extension": ".py",
   "mimetype": "text/x-python",
   "name": "python",
   "nbconvert_exporter": "python",
   "pygments_lexer": "ipython3",
   "version": "3.7.3"
  }
 },
 "nbformat": 4,
 "nbformat_minor": 2
}
